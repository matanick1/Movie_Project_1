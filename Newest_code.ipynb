{
 "cells": [
  {
   "cell_type": "code",
   "execution_count": 2,
   "metadata": {},
   "outputs": [],
   "source": [
    "import pandas as pd"
   ]
  },
  {
   "cell_type": "code",
   "execution_count": 3,
   "metadata": {},
   "outputs": [],
   "source": [
    "# read in the most_recent file\n",
    "most_recent = pd.read_csv('most_recent.csv')\n",
    "\n"
   ]
  },
  {
   "cell_type": "code",
   "execution_count": 4,
   "metadata": {},
   "outputs": [
    {
     "data": {
      "text/html": [
       "<div>\n",
       "<style scoped>\n",
       "    .dataframe tbody tr th:only-of-type {\n",
       "        vertical-align: middle;\n",
       "    }\n",
       "\n",
       "    .dataframe tbody tr th {\n",
       "        vertical-align: top;\n",
       "    }\n",
       "\n",
       "    .dataframe thead th {\n",
       "        text-align: right;\n",
       "    }\n",
       "</style>\n",
       "<table border=\"1\" class=\"dataframe\">\n",
       "  <thead>\n",
       "    <tr style=\"text-align: right;\">\n",
       "      <th></th>\n",
       "      <th>Title</th>\n",
       "      <th>Year</th>\n",
       "      <th>Inflation_Rank</th>\n",
       "      <th>Adj. Domestic Lifetime Gross</th>\n",
       "      <th>Est. Num Tickets</th>\n",
       "      <th>Worldwide Rank</th>\n",
       "      <th>Worldwide Lifetime Gross</th>\n",
       "      <th>Domestic Lifetime Gross</th>\n",
       "      <th>Domestic %</th>\n",
       "      <th>Foreign Lifetime Gross</th>\n",
       "      <th>Foreign %</th>\n",
       "      <th>Production Budget</th>\n",
       "    </tr>\n",
       "  </thead>\n",
       "  <tbody>\n",
       "    <tr>\n",
       "      <th>0</th>\n",
       "      <td>Gone With The Wind</td>\n",
       "      <td>1939.0</td>\n",
       "      <td>1.0</td>\n",
       "      <td>$1,895,421,694</td>\n",
       "      <td>202,286,200</td>\n",
       "      <td>318.0</td>\n",
       "      <td>$402,352,579</td>\n",
       "      <td>$200,882,193</td>\n",
       "      <td>50.0</td>\n",
       "      <td>$201,500,000</td>\n",
       "      <td>50.0</td>\n",
       "      <td>$3,900,000</td>\n",
       "    </tr>\n",
       "    <tr>\n",
       "      <th>1</th>\n",
       "      <td>Star Wars Episode Iv  A New Hope</td>\n",
       "      <td>1977.0</td>\n",
       "      <td>2.0</td>\n",
       "      <td>$1,668,979,715</td>\n",
       "      <td>178,119,500</td>\n",
       "      <td>102.0</td>\n",
       "      <td>$775,398,007</td>\n",
       "      <td>$460,998,507</td>\n",
       "      <td>59.0</td>\n",
       "      <td>$314,399,500</td>\n",
       "      <td>41.0</td>\n",
       "      <td>$11,000,000</td>\n",
       "    </tr>\n",
       "    <tr>\n",
       "      <th>2</th>\n",
       "      <td>The Sound Of Music</td>\n",
       "      <td>1965.0</td>\n",
       "      <td>3.0</td>\n",
       "      <td>$1,335,086,324</td>\n",
       "      <td>142,485,200</td>\n",
       "      <td>NaN</td>\n",
       "      <td>NaN</td>\n",
       "      <td>$159,287,539</td>\n",
       "      <td>NaN</td>\n",
       "      <td>NaN</td>\n",
       "      <td>NaN</td>\n",
       "      <td>$8,200,000</td>\n",
       "    </tr>\n",
       "    <tr>\n",
       "      <th>3</th>\n",
       "      <td>ET The ExtraTerrestrial</td>\n",
       "      <td>1982.0</td>\n",
       "      <td>4.0</td>\n",
       "      <td>$1,329,174,791</td>\n",
       "      <td>141,854,300</td>\n",
       "      <td>NaN</td>\n",
       "      <td>NaN</td>\n",
       "      <td>$437,141,279</td>\n",
       "      <td>NaN</td>\n",
       "      <td>NaN</td>\n",
       "      <td>NaN</td>\n",
       "      <td>$10,500,000</td>\n",
       "    </tr>\n",
       "    <tr>\n",
       "      <th>4</th>\n",
       "      <td>Titanic</td>\n",
       "      <td>1997.0</td>\n",
       "      <td>5.0</td>\n",
       "      <td>$1,270,101,626</td>\n",
       "      <td>135,549,800</td>\n",
       "      <td>3.0</td>\n",
       "      <td>$2,201,647,264</td>\n",
       "      <td>$674,292,608</td>\n",
       "      <td>30.0</td>\n",
       "      <td>$1,542,283,320</td>\n",
       "      <td>70.0</td>\n",
       "      <td>$200,000,000</td>\n",
       "    </tr>\n",
       "  </tbody>\n",
       "</table>\n",
       "</div>"
      ],
      "text/plain": [
       "                              Title    Year  Inflation_Rank  \\\n",
       "0                Gone With The Wind  1939.0             1.0   \n",
       "1  Star Wars Episode Iv  A New Hope  1977.0             2.0   \n",
       "2                The Sound Of Music  1965.0             3.0   \n",
       "3           ET The ExtraTerrestrial  1982.0             4.0   \n",
       "4                           Titanic  1997.0             5.0   \n",
       "\n",
       "  Adj. Domestic Lifetime Gross Est. Num Tickets  Worldwide Rank  \\\n",
       "0              $1,895,421,694       202,286,200           318.0   \n",
       "1              $1,668,979,715       178,119,500           102.0   \n",
       "2              $1,335,086,324       142,485,200             NaN   \n",
       "3              $1,329,174,791       141,854,300             NaN   \n",
       "4              $1,270,101,626       135,549,800             3.0   \n",
       "\n",
       "  Worldwide Lifetime Gross Domestic Lifetime Gross  Domestic %  \\\n",
       "0             $402,352,579           $200,882,193         50.0   \n",
       "1             $775,398,007           $460,998,507         59.0   \n",
       "2                      NaN           $159,287,539          NaN   \n",
       "3                      NaN           $437,141,279          NaN   \n",
       "4           $2,201,647,264           $674,292,608         30.0   \n",
       "\n",
       "  Foreign Lifetime Gross  Foreign % Production Budget  \n",
       "0           $201,500,000       50.0        $3,900,000  \n",
       "1           $314,399,500       41.0       $11,000,000  \n",
       "2                    NaN        NaN        $8,200,000  \n",
       "3                    NaN        NaN       $10,500,000  \n",
       "4         $1,542,283,320       70.0      $200,000,000  "
      ]
     },
     "execution_count": 4,
     "metadata": {},
     "output_type": "execute_result"
    }
   ],
   "source": [
    "# eliminate all rows after the 200th row\n",
    "most_recent = most_recent.iloc[:200]\n",
    "most_recent.head()\n",
    "\n"
   ]
  },
  {
   "cell_type": "code",
   "execution_count": 5,
   "metadata": {},
   "outputs": [],
   "source": [
    "# make an updated csv file\n",
    "most_recent.to_csv('most_recent.csv', index=False)\n",
    "\n"
   ]
  },
  {
   "cell_type": "code",
   "execution_count": 6,
   "metadata": {},
   "outputs": [
    {
     "name": "stdout",
     "output_type": "stream",
     "text": [
      "<class 'pandas.core.frame.DataFrame'>\n",
      "RangeIndex: 100 entries, 0 to 99\n",
      "Data columns (total 12 columns):\n",
      " #   Column                        Non-Null Count  Dtype  \n",
      "---  ------                        --------------  -----  \n",
      " 0   Title                         100 non-null    object \n",
      " 1   Year                          100 non-null    float64\n",
      " 2   Inflation_Rank                100 non-null    float64\n",
      " 3   Adj. Domestic Lifetime Gross  100 non-null    object \n",
      " 4   Est. Num Tickets              100 non-null    object \n",
      " 5   Worldwide Rank                58 non-null     float64\n",
      " 6   Worldwide Lifetime Gross      58 non-null     object \n",
      " 7   Domestic Lifetime Gross       100 non-null    object \n",
      " 8   Domestic %                    58 non-null     float64\n",
      " 9   Foreign Lifetime Gross        58 non-null     object \n",
      " 10  Foreign %                     58 non-null     float64\n",
      " 11  Production Budget             100 non-null    object \n",
      "dtypes: float64(5), object(7)\n",
      "memory usage: 9.5+ KB\n"
     ]
    }
   ],
   "source": [
    "# drop the last 101 rows\n",
    "most_recent = most_recent.drop(most_recent.index[100:])\n",
    "most_recent.info()"
   ]
  },
  {
   "cell_type": "code",
   "execution_count": null,
   "metadata": {},
   "outputs": [],
   "source": [
    "# update the csv file\n",
    "most_recent.to_csv('most_recent.csv', index=False)"
   ]
  },
  {
   "cell_type": "code",
   "execution_count": null,
   "metadata": {},
   "outputs": [],
   "source": []
  }
 ],
 "metadata": {
  "kernelspec": {
   "display_name": "base",
   "language": "python",
   "name": "python3"
  },
  "language_info": {
   "codemirror_mode": {
    "name": "ipython",
    "version": 3
   },
   "file_extension": ".py",
   "mimetype": "text/x-python",
   "name": "python",
   "nbconvert_exporter": "python",
   "pygments_lexer": "ipython3",
   "version": "3.9.13"
  },
  "orig_nbformat": 4
 },
 "nbformat": 4,
 "nbformat_minor": 2
}
